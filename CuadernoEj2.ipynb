{
 "cells": [
  {
   "cell_type": "code",
   "execution_count": 2,
   "id": "e15307db-f289-4980-abee-cd508dd69a3e",
   "metadata": {},
   "outputs": [
    {
     "name": "stdout",
     "output_type": "stream",
     "text": [
      "Requirement already satisfied: requests in c:\\users\\pauli\\appdata\\local\\programs\\python\\python312\\lib\\site-packages (2.31.0)\n",
      "Requirement already satisfied: charset-normalizer<4,>=2 in c:\\users\\pauli\\appdata\\local\\programs\\python\\python312\\lib\\site-packages (from requests) (3.3.2)\n",
      "Requirement already satisfied: idna<4,>=2.5 in c:\\users\\pauli\\appdata\\local\\programs\\python\\python312\\lib\\site-packages (from requests) (3.6)\n",
      "Requirement already satisfied: urllib3<3,>=1.21.1 in c:\\users\\pauli\\appdata\\local\\programs\\python\\python312\\lib\\site-packages (from requests) (2.1.0)\n",
      "Requirement already satisfied: certifi>=2017.4.17 in c:\\users\\pauli\\appdata\\local\\programs\\python\\python312\\lib\\site-packages (from requests) (2023.11.17)\n"
     ]
    }
   ],
   "source": [
    "!pip install requests"
   ]
  },
  {
   "cell_type": "code",
   "execution_count": 16,
   "id": "90c871e0-500d-4159-a2b5-e04305d9c66e",
   "metadata": {},
   "outputs": [
    {
     "name": "stdout",
     "output_type": "stream",
     "text": [
      "Ceres: 0 satélites naturales\n",
      "Plutón: 5 satélites naturales\n",
      "Haumea: 2 satélites naturales\n",
      "Makemake: 1 satélites naturales\n",
      "Eris: 1 satélites naturales\n"
     ]
    }
   ],
   "source": [
    "import requests\n",
    "from bs4 import BeautifulSoup\n",
    "\n",
    "url = \"https://es.wikipedia.org/wiki/Planetas_del_sistema_solar\"\n",
    "\n",
    "response = requests.get(url)\n",
    "\n",
    "soup = BeautifulSoup(response.content, \"html.parser\")\n",
    "\n",
    "tables = soup.find_all(\"table\", {\"class\": \"wikitable\"})\n",
    "\n",
    "dwarf_planets_table = None\n",
    "for table in tables:\n",
    "    if \"Ceres\" in table.get_text() and \"Plutón\" in table.get_text():\n",
    "        dwarf_planets_table = table\n",
    "        break\n",
    "\n",
    "if dwarf_planets_table:\n",
    "    dwarf_planets = {}\n",
    "\n",
    "    headers = [header.get_text(strip=True) for header in dwarf_planets_table.find_all(\"th\")]\n",
    "    \n",
    "    satellites_index = headers.index(\"Satélites naturales\")\n",
    "\n",
    "    rows = dwarf_planets_table.find_all(\"tr\")\n",
    "    for row in rows[1:]:  \n",
    "        columns = row.find_all(\"td\")\n",
    "        if len(columns) > satellites_index:\n",
    "            planet_name = columns[0].get_text(strip=True)\n",
    "            num_satellites_text = columns[satellites_index].get_text(strip=True).split('[')[0].strip()\n",
    "            try:\n",
    "                num_satellites = int(num_satellites_text)\n",
    "            except ValueError:\n",
    "                num_satellites = 0\n",
    "            dwarf_planets[planet_name] = num_satellites\n",
    "\n",
    "    for planet, satellites in dwarf_planets.items():\n",
    "        print(f\"{planet}: {satellites} satélites naturales\")\n"
   ]
  }
 ],
 "metadata": {
  "kernelspec": {
   "display_name": "Python 3 (ipykernel)",
   "language": "python",
   "name": "python3"
  },
  "language_info": {
   "codemirror_mode": {
    "name": "ipython",
    "version": 3
   },
   "file_extension": ".py",
   "mimetype": "text/x-python",
   "name": "python",
   "nbconvert_exporter": "python",
   "pygments_lexer": "ipython3",
   "version": "3.12.1"
  }
 },
 "nbformat": 4,
 "nbformat_minor": 5
}
